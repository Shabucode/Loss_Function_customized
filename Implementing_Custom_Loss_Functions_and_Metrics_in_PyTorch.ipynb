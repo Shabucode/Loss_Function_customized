{
  "nbformat": 4,
  "nbformat_minor": 0,
  "metadata": {
    "colab": {
      "provenance": []
    },
    "kernelspec": {
      "name": "python3",
      "display_name": "Python 3"
    },
    "language_info": {
      "name": "python"
    }
  },
  "cells": [
    {
      "cell_type": "code",
      "execution_count": null,
      "metadata": {
        "colab": {
          "base_uri": "https://localhost:8080/"
        },
        "id": "r2_9-SDjvtMm",
        "outputId": "9c37b77b-07f5-4d35-cff8-eef718d96be4"
      },
      "outputs": [
        {
          "output_type": "stream",
          "name": "stdout",
          "text": [
            "Custom Loss: 2.3947\n",
            "Custom Metric: 1.6097\n"
          ]
        }
      ],
      "source": [
        "import torch\n",
        "import torch.nn as nn\n",
        "\n",
        "class CustomLoss(nn.Module):\n",
        "    def __init__(self, weight=0.5):\n",
        "        super().__init__()\n",
        "        self.weight = weight\n",
        "\n",
        "    def forward(self, pred, target):\n",
        "        return self.weight * torch.mean(\n",
        "            (pred - target)**2)\n",
        "\n",
        "def custom_metric(pred, target):\n",
        "    return torch.mean(torch.abs(pred - target))\n",
        "\n",
        "# Sample data\n",
        "pred = torch.randn(5, 3)\n",
        "target = torch.randn(5, 3)\n",
        "\n",
        "# Use custom loss\n",
        "criterion = CustomLoss(weight=0.7)\n",
        "loss = criterion(pred, target)\n",
        "print(f\"Custom Loss: {loss.item():.4f}\")\n",
        "\n",
        "# Use custom metric\n",
        "metric_value = custom_metric(pred, target)\n",
        "print(f\"Custom Metric: {metric_value.item():.4f}\")"
      ]
    },
    {
      "cell_type": "code",
      "source": [],
      "metadata": {
        "id": "bExQ7SDRuNwQ"
      },
      "execution_count": null,
      "outputs": []
    }
  ]
}